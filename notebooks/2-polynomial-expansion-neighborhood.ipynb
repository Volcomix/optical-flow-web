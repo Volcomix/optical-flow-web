{
 "cells": [
  {
   "attachments": {},
   "cell_type": "markdown",
   "metadata": {},
   "source": [
    "# [Polynomial Expansion for Orientation and Motion Estimation](http://www.diva-portal.org/smash/get/diva2:302485/FULLTEXT01.pdf)\n",
    "\n",
    "Gunnar Farnebäck\n",
    "\n",
    "## 4. Polynomial Expansion\n",
    "\n",
    "Based on example signal and applicability from chapter 3.4"
   ]
  },
  {
   "cell_type": "code",
   "execution_count": 1,
   "metadata": {},
   "outputs": [],
   "source": [
    "import numpy as np"
   ]
  },
  {
   "attachments": {},
   "cell_type": "markdown",
   "metadata": {},
   "source": [
    "**Marked point**"
   ]
  },
  {
   "cell_type": "code",
   "execution_count": 2,
   "metadata": {},
   "outputs": [],
   "source": [
    "point = (2, 4)"
   ]
  },
  {
   "attachments": {},
   "cell_type": "markdown",
   "metadata": {},
   "source": [
    "**Signal**"
   ]
  },
  {
   "cell_type": "code",
   "execution_count": 3,
   "metadata": {},
   "outputs": [],
   "source": [
    "#                       point x\n",
    "#                         v\n",
    "signal = np.array([[3, 7, 4, 5, 8],\n",
    "                   [9, 2, 4, 4, 6],\n",
    "                   [5, 1, 4, 3, 7],\n",
    "                   [3, 1, 1, 2, 8],\n",
    "                   [4, 6, 2, 3, 6], # < point y\n",
    "                   [7, 3, 2, 6, 3],\n",
    "                   [9, 6, 4, 9, 9]])"
   ]
  },
  {
   "attachments": {},
   "cell_type": "markdown",
   "metadata": {},
   "source": [
    "### Correlation"
   ]
  },
  {
   "attachments": {},
   "cell_type": "markdown",
   "metadata": {},
   "source": [
    "**Applicability**"
   ]
  },
  {
   "cell_type": "code",
   "execution_count": 4,
   "metadata": {},
   "outputs": [],
   "source": [
    "applicability = np.array([[1, 2, 1],\n",
    "                          [2, 4, 2],\n",
    "                          [1, 2, 1]])"
   ]
  },
  {
   "attachments": {},
   "cell_type": "markdown",
   "metadata": {},
   "source": [
    "The applicability fixes the size of the neighborhood"
   ]
  },
  {
   "cell_type": "code",
   "execution_count": 5,
   "metadata": {},
   "outputs": [],
   "source": [
    "size = applicability.shape[0]\n",
    "half_size = int(size / 2)"
   ]
  },
  {
   "attachments": {},
   "cell_type": "markdown",
   "metadata": {},
   "source": [
    "**Polynomial basis**\n",
    "\n",
    "{1, x, y, x², y², xy}"
   ]
  },
  {
   "cell_type": "code",
   "execution_count": 6,
   "metadata": {},
   "outputs": [
    {
     "name": "stdout",
     "output_type": "stream",
     "text": [
      "[[ 1 -1 -1  1  1  1]\n",
      " [ 1 -1  0  1  0  0]\n",
      " [ 1 -1  1  1  1 -1]\n",
      " [ 1  0 -1  0  1  0]\n",
      " [ 1  0  0  0  0  0]\n",
      " [ 1  0  1  0  1  0]\n",
      " [ 1  1 -1  1  1 -1]\n",
      " [ 1  1  0  1  0  0]\n",
      " [ 1  1  1  1  1  1]]\n"
     ]
    }
   ],
   "source": [
    "x, y = np.mgrid[-half_size : half_size + 1, -half_size : half_size + 1].reshape(2, -1)\n",
    "B = np.stack([np.ones(x.size, dtype=int), x, y, x ** 2, y ** 2, x * y], axis=1)\n",
    "print(B)"
   ]
  },
  {
   "attachments": {},
   "cell_type": "markdown",
   "metadata": {},
   "source": [
    "**Applicability as a n x 1 column vector**"
   ]
  },
  {
   "cell_type": "code",
   "execution_count": 7,
   "metadata": {},
   "outputs": [
    {
     "name": "stdout",
     "output_type": "stream",
     "text": [
      "[1 2 1 2 4 2 1 2 1]\n"
     ]
    }
   ],
   "source": [
    "a = applicability.T.reshape(-1)\n",
    "print(a)"
   ]
  },
  {
   "attachments": {},
   "cell_type": "markdown",
   "metadata": {},
   "source": [
    "**Signal neighborhood**"
   ]
  },
  {
   "cell_type": "code",
   "execution_count": 8,
   "metadata": {},
   "outputs": [
    {
     "name": "stdout",
     "output_type": "stream",
     "text": [
      "[1 6 3 1 2 2 2 3 6]\n"
     ]
    }
   ],
   "source": [
    "f = signal[point[1] - half_size : point[1] + half_size + 1,\n",
    "           point[0] - half_size : point[0] + half_size + 1].T.reshape(-1)\n",
    "print(f)"
   ]
  },
  {
   "attachments": {},
   "cell_type": "markdown",
   "metadata": {},
   "source": [
    "**Resulting coefficients**"
   ]
  },
  {
   "cell_type": "code",
   "execution_count": 9,
   "metadata": {},
   "outputs": [
    {
     "name": "stdout",
     "output_type": "stream",
     "text": [
      "[[16  0  0  8  8  0]\n",
      " [ 0  8  0  0  0  0]\n",
      " [ 0  0  8  0  0  0]\n",
      " [ 8  0  0  8  4  0]\n",
      " [ 8  0  0  4  8  0]\n",
      " [ 0  0  0  0  0  4]]\n"
     ]
    }
   ],
   "source": [
    "G = np.dot(a * B.T, B)\n",
    "print(G)"
   ]
  },
  {
   "cell_type": "code",
   "execution_count": 10,
   "metadata": {},
   "outputs": [
    {
     "name": "stdout",
     "output_type": "stream",
     "text": [
      "[44 -2  8 30 18  2]\n"
     ]
    }
   ],
   "source": [
    "BWaf = np.dot(a * B.T, f)\n",
    "print(BWaf)"
   ]
  },
  {
   "cell_type": "code",
   "execution_count": 11,
   "metadata": {},
   "outputs": [
    {
     "name": "stdout",
     "output_type": "stream",
     "text": [
      "[ 2.25 -0.25  1.    2.   -1.    0.5 ]\n"
     ]
    }
   ],
   "source": [
    "r = np.linalg.inv(G).dot(BWaf)\n",
    "print(r)"
   ]
  },
  {
   "attachments": {},
   "cell_type": "markdown",
   "metadata": {},
   "source": [
    "**Reconstructed signal projection**"
   ]
  },
  {
   "cell_type": "code",
   "execution_count": 12,
   "metadata": {},
   "outputs": [
    {
     "name": "stdout",
     "output_type": "stream",
     "text": [
      "[[3.   0.25 1.5 ]\n",
      " [4.5  2.25 4.  ]\n",
      " [4.   2.25 4.5 ]]\n"
     ]
    }
   ],
   "source": [
    "Br = B.dot(r).reshape(size, size).T\n",
    "print(Br)"
   ]
  },
  {
   "attachments": {},
   "cell_type": "markdown",
   "metadata": {},
   "source": [
    "### Separable correlation"
   ]
  },
  {
   "attachments": {},
   "cell_type": "markdown",
   "metadata": {},
   "source": [
    "**Applicability separability**"
   ]
  },
  {
   "cell_type": "code",
   "execution_count": 13,
   "metadata": {},
   "outputs": [
    {
     "name": "stdout",
     "output_type": "stream",
     "text": [
      "[[1 2 1]\n",
      " [2 4 2]\n",
      " [1 2 1]]\n"
     ]
    }
   ],
   "source": [
    "a_1D = np.array([1, 2, 1])\n",
    "print(np.outer(a_1D, a_1D))"
   ]
  },
  {
   "attachments": {},
   "cell_type": "markdown",
   "metadata": {},
   "source": [
    "**Basis separability**"
   ]
  },
  {
   "cell_type": "code",
   "execution_count": 14,
   "metadata": {},
   "outputs": [
    {
     "name": "stdout",
     "output_type": "stream",
     "text": [
      "[[ 1 -1 -1  1  1  1]\n",
      " [ 1 -1  0  1  0  0]\n",
      " [ 1 -1  1  1  1 -1]\n",
      " [ 1  0 -1  0  1  0]\n",
      " [ 1  0  0  0  0  0]\n",
      " [ 1  0  1  0  1  0]\n",
      " [ 1  1 -1  1  1 -1]\n",
      " [ 1  1  0  1  0  0]\n",
      " [ 1  1  1  1  1  1]]\n"
     ]
    }
   ],
   "source": [
    "ones = np.ones(size, dtype=int)\n",
    "x = np.arange(-half_size, half_size + 1)\n",
    "x2 = x ** 2\n",
    "y = x\n",
    "y2 = x2\n",
    "\n",
    "B_x = np.stack([ones, x,    ones, x2,   ones, x])\n",
    "B_y = np.stack([ones, ones, y,    ones, y2,   y])\n",
    "\n",
    "BWa_x = a_1D * B_x\n",
    "BWa_y = a_1D * B_y\n",
    "\n",
    "print(np.einsum('ki,kj->ijk', B_x, B_y).reshape(size ** 2, B_x.shape[0]))"
   ]
  },
  {
   "attachments": {},
   "cell_type": "markdown",
   "metadata": {},
   "source": [
    "**Signal neighborhood**"
   ]
  },
  {
   "cell_type": "code",
   "execution_count": 15,
   "metadata": {},
   "outputs": [
    {
     "name": "stdout",
     "output_type": "stream",
     "text": [
      "[[1 1 2]\n",
      " [6 2 3]\n",
      " [3 2 6]]\n"
     ]
    }
   ],
   "source": [
    "f = signal[point[1] - half_size : point[1] + half_size + 1,\n",
    "           point[0] - half_size : point[0] + half_size + 1]\n",
    "print(f)"
   ]
  },
  {
   "attachments": {},
   "cell_type": "markdown",
   "metadata": {},
   "source": [
    "**Separable correlation**"
   ]
  },
  {
   "cell_type": "code",
   "execution_count": 16,
   "metadata": {},
   "outputs": [
    {
     "name": "stdout",
     "output_type": "stream",
     "text": [
      "[[ 5  1  5  3  5  1]\n",
      " [13 -3 13  9 13 -3]\n",
      " [13  3 13  9 13  3]]\n"
     ]
    }
   ],
   "source": [
    "BWaf_x = np.einsum('jk,ik', BWa_x, f)\n",
    "print(BWaf_x)"
   ]
  },
  {
   "cell_type": "code",
   "execution_count": 17,
   "metadata": {},
   "outputs": [
    {
     "name": "stdout",
     "output_type": "stream",
     "text": [
      "[44 -2  8 30 18  2]\n"
     ]
    }
   ],
   "source": [
    "BWaf = np.einsum('ij,ji->i', BWa_y, BWaf_x)\n",
    "print(BWaf)"
   ]
  },
  {
   "attachments": {},
   "cell_type": "markdown",
   "metadata": {},
   "source": [
    "**Resulting coefficients**"
   ]
  },
  {
   "cell_type": "code",
   "execution_count": 18,
   "metadata": {},
   "outputs": [
    {
     "name": "stdout",
     "output_type": "stream",
     "text": [
      "[ 2.25 -0.25  1.    2.   -1.    0.5 ]\n"
     ]
    }
   ],
   "source": [
    "r = np.linalg.inv(G).dot(BWaf)\n",
    "print(r)"
   ]
  },
  {
   "attachments": {},
   "cell_type": "markdown",
   "metadata": {},
   "source": [
    "**Reconstructed signal projection**"
   ]
  },
  {
   "cell_type": "code",
   "execution_count": 19,
   "metadata": {},
   "outputs": [
    {
     "name": "stdout",
     "output_type": "stream",
     "text": [
      "[[3.   0.25 1.5 ]\n",
      " [4.5  2.25 4.  ]\n",
      " [4.   2.25 4.5 ]]\n"
     ]
    }
   ],
   "source": [
    "Br = B.dot(r).reshape(size, size).T\n",
    "print(Br)"
   ]
  }
 ],
 "metadata": {
  "kernelspec": {
   "display_name": "Python 3",
   "language": "python",
   "name": "python3"
  },
  "language_info": {
   "codemirror_mode": {
    "name": "ipython",
    "version": 3
   },
   "file_extension": ".py",
   "mimetype": "text/x-python",
   "name": "python",
   "nbconvert_exporter": "python",
   "pygments_lexer": "ipython3",
   "version": "3.11.3"
  },
  "orig_nbformat": 4
 },
 "nbformat": 4,
 "nbformat_minor": 2
}
