{
 "cells": [
  {
   "attachments": {},
   "cell_type": "markdown",
   "metadata": {},
   "source": [
    "# [Polynomial Expansion for Orientation and Motion Estimation](http://www.diva-portal.org/smash/get/diva2:302485/FULLTEXT01.pdf)\n",
    "\n",
    "Gunnar Farnebäck\n",
    "\n",
    "## 4. Polynomial Expansion\n",
    "\n",
    "Based on example signal and applicability from chapter 3.4\n",
    "\n",
    "**Computes the polynomial expansion on the whole signal through consecutive 1D cross correlations**"
   ]
  },
  {
   "cell_type": "code",
   "execution_count": 1,
   "metadata": {},
   "outputs": [],
   "source": [
    "import numpy as np\n",
    "import scipy"
   ]
  },
  {
   "attachments": {},
   "cell_type": "markdown",
   "metadata": {},
   "source": [
    "**Marked point**"
   ]
  },
  {
   "cell_type": "code",
   "execution_count": 2,
   "metadata": {},
   "outputs": [],
   "source": [
    "point = (2, 4)"
   ]
  },
  {
   "attachments": {},
   "cell_type": "markdown",
   "metadata": {},
   "source": [
    "**Signal**"
   ]
  },
  {
   "cell_type": "code",
   "execution_count": 3,
   "metadata": {},
   "outputs": [],
   "source": [
    "f = np.array([[3, 7, 4, 5, 8],\n",
    "              [9, 2, 4, 4, 6],\n",
    "              [5, 1, 4, 3, 7],\n",
    "              [3, 1, 1, 2, 8],\n",
    "              [4, 6, 2, 3, 6],\n",
    "              [7, 3, 2, 6, 3],\n",
    "              [9, 6, 4, 9, 9]])"
   ]
  },
  {
   "attachments": {},
   "cell_type": "markdown",
   "metadata": {},
   "source": [
    "**Applicability**"
   ]
  },
  {
   "cell_type": "code",
   "execution_count": 4,
   "metadata": {},
   "outputs": [],
   "source": [
    "a = np.array([1, 2, 1])"
   ]
  },
  {
   "attachments": {},
   "cell_type": "markdown",
   "metadata": {},
   "source": [
    "The applicability fixes the size of the neighborhood"
   ]
  },
  {
   "cell_type": "code",
   "execution_count": 5,
   "metadata": {},
   "outputs": [],
   "source": [
    "n = int(a.size / 2)"
   ]
  },
  {
   "attachments": {},
   "cell_type": "markdown",
   "metadata": {},
   "source": [
    "**Polynomial basis**\n",
    "\n",
    "{1, x, y, x², y², xy}"
   ]
  },
  {
   "cell_type": "code",
   "execution_count": 6,
   "metadata": {},
   "outputs": [
    {
     "name": "stdout",
     "output_type": "stream",
     "text": [
      "[[ 1 -1 -1  1  1  1]\n",
      " [ 1 -1  0  1  0  0]\n",
      " [ 1 -1  1  1  1 -1]\n",
      " [ 1  0 -1  0  1  0]\n",
      " [ 1  0  0  0  0  0]\n",
      " [ 1  0  1  0  1  0]\n",
      " [ 1  1 -1  1  1 -1]\n",
      " [ 1  1  0  1  0  0]\n",
      " [ 1  1  1  1  1  1]]\n"
     ]
    }
   ],
   "source": [
    "ones = np.ones(a.size, dtype=int)\n",
    "x = np.arange(-n, n + 1, dtype=int)\n",
    "\n",
    "B_x = np.stack([ones, x,    ones, x ** 2, ones,   x])\n",
    "B_y = np.stack([ones, ones, x,    ones,   x ** 2, x])\n",
    "B = np.einsum('ki,kj->ijk', B_x, B_y).reshape(a.size ** 2, B_x.shape[0])\n",
    "\n",
    "print(B)"
   ]
  },
  {
   "cell_type": "code",
   "execution_count": 7,
   "metadata": {},
   "outputs": [
    {
     "name": "stdout",
     "output_type": "stream",
     "text": [
      "[[16  0  0  8  8  0]\n",
      " [ 0  8  0  0  0  0]\n",
      " [ 0  0  8  0  0  0]\n",
      " [ 8  0  0  8  4  0]\n",
      " [ 8  0  0  4  8  0]\n",
      " [ 0  0  0  0  0  4]]\n",
      "\n",
      "[[ 0.1875  0.      0.     -0.125  -0.125   0.    ]\n",
      " [ 0.      0.125   0.      0.      0.      0.    ]\n",
      " [ 0.      0.      0.125   0.      0.      0.    ]\n",
      " [-0.125   0.      0.      0.25    0.      0.    ]\n",
      " [-0.125   0.      0.      0.      0.25    0.    ]\n",
      " [ 0.      0.      0.      0.      0.      0.25  ]]\n"
     ]
    }
   ],
   "source": [
    "G = np.dot(np.outer(a, a).reshape(-1) * B.T, B)\n",
    "invG = np.linalg.inv(G)\n",
    "\n",
    "print(G, end='\\n\\n')\n",
    "print(invG)"
   ]
  },
  {
   "cell_type": "code",
   "execution_count": 8,
   "metadata": {},
   "outputs": [
    {
     "name": "stdout",
     "output_type": "stream",
     "text": [
      "[[ 1  2  1]\n",
      " [-1  0  1]\n",
      " [ 1  0  1]]\n"
     ]
    }
   ],
   "source": [
    "BWa_1D_one = a\n",
    "BWa_1D_x = a * x\n",
    "BWa_1D_x2 = a * x ** 2\n",
    "\n",
    "print(np.stack([BWa_1D_one, BWa_1D_x, BWa_1D_x2]))"
   ]
  },
  {
   "attachments": {},
   "cell_type": "markdown",
   "metadata": {},
   "source": [
    "**Separable correlation**\n",
    "\n",
    "x direction"
   ]
  },
  {
   "cell_type": "code",
   "execution_count": 9,
   "metadata": {},
   "outputs": [
    {
     "name": "stdout",
     "output_type": "stream",
     "text": [
      "[[13 21 20 22 21]\n",
      " [20 17 14 18 16]\n",
      " [11 11 12 17 17]\n",
      " [ 7  6  5 13 18]\n",
      " [14 18 13 14 15]\n",
      " [17 15 13 17 12]\n",
      " [24 25 23 31 27]]\n",
      "\n",
      "[[ 7  1 -2  4 -5]\n",
      " [ 2 -5  2  2 -4]\n",
      " [ 1 -1  2  3 -3]\n",
      " [ 1 -2  1  7 -2]\n",
      " [ 6 -2 -3  4 -3]\n",
      " [ 3 -5  3  1 -6]\n",
      " [ 6 -5  3  5 -9]]\n",
      "\n",
      "[[ 7  7 12 12  5]\n",
      " [ 2 13  6 10  4]\n",
      " [ 1  9  4 11  3]\n",
      " [ 1  4  3  9  2]\n",
      " [ 6  6  9  8  3]\n",
      " [ 3  9  9  5  6]\n",
      " [ 6 13 15 13  9]]\n"
     ]
    }
   ],
   "source": [
    "BWaf_1D_one = scipy.ndimage.correlate1d(f, BWa_1D_one, axis=1, mode='constant')\n",
    "BWaf_1D_x = scipy.ndimage.correlate1d(f, BWa_1D_x, axis=1, mode='constant')\n",
    "BWaf_1D_x2 = scipy.ndimage.correlate1d(f, BWa_1D_x2, axis=1, mode='constant')\n",
    "\n",
    "print(BWaf_1D_one, end='\\n\\n')\n",
    "print(BWaf_1D_x, end='\\n\\n')\n",
    "print(BWaf_1D_x2)"
   ]
  },
  {
   "attachments": {},
   "cell_type": "markdown",
   "metadata": {},
   "source": [
    "y direction"
   ]
  },
  {
   "cell_type": "code",
   "execution_count": 10,
   "metadata": {},
   "outputs": [
    {
     "name": "stdout",
     "output_type": "stream",
     "text": [
      "[44 -2  8 30 18  2]\n"
     ]
    }
   ],
   "source": [
    "BWaf_one = scipy.ndimage.correlate1d(BWaf_1D_one, BWa_1D_one.T, axis=0, mode='constant')\n",
    "BWaf_x = scipy.ndimage.correlate1d(BWaf_1D_x, BWa_1D_one.T, axis=0, mode='constant')\n",
    "BWaf_y = scipy.ndimage.correlate1d(BWaf_1D_one, BWa_1D_x.T, axis=0, mode='constant')\n",
    "BWaf_x2 = scipy.ndimage.correlate1d(BWaf_1D_x2, BWa_1D_one.T, axis=0, mode='constant')\n",
    "BWaf_y2 = scipy.ndimage.correlate1d(BWaf_1D_one, BWa_1D_x2.T, axis=0, mode='constant')\n",
    "BWaf_xy = scipy.ndimage.correlate1d(BWaf_1D_x, BWa_1D_x.T, axis=0, mode='constant')\n",
    "\n",
    "BWaf = np.stack([BWaf_one, BWaf_x, BWaf_y, BWaf_x2, BWaf_y2, BWaf_xy])\n",
    "\n",
    "print(BWaf[:, point[1], point[0]])"
   ]
  },
  {
   "attachments": {},
   "cell_type": "markdown",
   "metadata": {},
   "source": [
    "**Resulting coefficients**"
   ]
  },
  {
   "cell_type": "code",
   "execution_count": 11,
   "metadata": {},
   "outputs": [
    {
     "name": "stdout",
     "output_type": "stream",
     "text": [
      "[ 2.25 -0.25  1.    2.   -1.    0.5 ]\n"
     ]
    }
   ],
   "source": [
    "r = np.einsum('li,ijk', invG, BWaf)\n",
    "print(r[point[1], point[0]])"
   ]
  },
  {
   "attachments": {},
   "cell_type": "markdown",
   "metadata": {},
   "source": [
    "**Reconstructed signal projection**"
   ]
  },
  {
   "cell_type": "code",
   "execution_count": 12,
   "metadata": {},
   "outputs": [
    {
     "name": "stdout",
     "output_type": "stream",
     "text": [
      "[[3.   0.25 1.5 ]\n",
      " [4.5  2.25 4.  ]\n",
      " [4.   2.25 4.5 ]]\n"
     ]
    }
   ],
   "source": [
    "Br = np.einsum('ij,klj->kli', B, r)\n",
    "print(Br[point[1], point[0]].reshape(a.size, a.size).T)"
   ]
  }
 ],
 "metadata": {
  "kernelspec": {
   "display_name": "Python 3",
   "language": "python",
   "name": "python3"
  },
  "language_info": {
   "codemirror_mode": {
    "name": "ipython",
    "version": 3
   },
   "file_extension": ".py",
   "mimetype": "text/x-python",
   "name": "python",
   "nbconvert_exporter": "python",
   "pygments_lexer": "ipython3",
   "version": "3.11.3"
  },
  "orig_nbformat": 4
 },
 "nbformat": 4,
 "nbformat_minor": 2
}
