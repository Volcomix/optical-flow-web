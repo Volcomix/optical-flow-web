{
 "cells": [
  {
   "attachments": {},
   "cell_type": "markdown",
   "metadata": {},
   "source": [
    "# [Polynomial Expansion for Orientation and Motion Estimation](http://www.diva-portal.org/smash/get/diva2:302485/FULLTEXT01.pdf)\n",
    "\n",
    "Gunnar Farnebäck\n",
    "\n",
    "## 3. Normalized Convolution\n",
    "\n",
    "## 3.4. Example"
   ]
  },
  {
   "cell_type": "code",
   "execution_count": 1,
   "metadata": {},
   "outputs": [],
   "source": [
    "import numpy as np"
   ]
  },
  {
   "attachments": {},
   "cell_type": "markdown",
   "metadata": {},
   "source": [
    "**Marked point**"
   ]
  },
  {
   "cell_type": "code",
   "execution_count": 2,
   "metadata": {},
   "outputs": [],
   "source": [
    "point = (2, 4)"
   ]
  },
  {
   "attachments": {},
   "cell_type": "markdown",
   "metadata": {},
   "source": [
    "**Signal**"
   ]
  },
  {
   "cell_type": "code",
   "execution_count": 3,
   "metadata": {},
   "outputs": [],
   "source": [
    "#                       point x\n",
    "#                         v\n",
    "signal = np.array([[3, 7, 4, 5, 8],\n",
    "                   [9, 2, 4, 4, 6],\n",
    "                   [5, 1, 4, 3, 7],\n",
    "                   [3, 1, 1, 2, 8],\n",
    "                   [4, 6, 2, 3, 6], # < point y\n",
    "                   [7, 3, 2, 6, 3],\n",
    "                   [9, 6, 4, 9, 9]])"
   ]
  },
  {
   "attachments": {},
   "cell_type": "markdown",
   "metadata": {},
   "source": [
    "**Certainty field**"
   ]
  },
  {
   "cell_type": "code",
   "execution_count": 4,
   "metadata": {},
   "outputs": [],
   "source": [
    "#                         point x\n",
    "#                            v\n",
    "certainty = np.array([[0, 2, 2, 2, 2],\n",
    "                      [2, 1, 1, 2, 2],\n",
    "                      [2, 1, 1, 2, 1],\n",
    "                      [2, 2, 2, 2, 1],\n",
    "                      [1, 0, 2, 2, 2], # < point y\n",
    "                      [1, 1, 2, 1, 0],\n",
    "                      [2, 2, 2, 1, 0]])"
   ]
  },
  {
   "attachments": {},
   "cell_type": "markdown",
   "metadata": {},
   "source": [
    "**Applicability**"
   ]
  },
  {
   "cell_type": "code",
   "execution_count": 5,
   "metadata": {},
   "outputs": [],
   "source": [
    "applicability = np.array([[1, 2, 1],\n",
    "                          [2, 4, 2],\n",
    "                          [1, 2, 1]])"
   ]
  },
  {
   "attachments": {},
   "cell_type": "markdown",
   "metadata": {},
   "source": [
    "The applicability fixes the size of the neighborhood"
   ]
  },
  {
   "cell_type": "code",
   "execution_count": 6,
   "metadata": {},
   "outputs": [],
   "source": [
    "size = applicability.shape[0]\n",
    "half_size = int(size / 2)"
   ]
  },
  {
   "attachments": {},
   "cell_type": "markdown",
   "metadata": {},
   "source": [
    "**Polynomial basis**\n",
    "\n",
    "{1, x, y, x², xy, y²}"
   ]
  },
  {
   "cell_type": "code",
   "execution_count": 7,
   "metadata": {},
   "outputs": [
    {
     "name": "stdout",
     "output_type": "stream",
     "text": [
      "[[ 1 -1 -1  1  1  1]\n",
      " [ 1 -1  0  1  0  0]\n",
      " [ 1 -1  1  1 -1  1]\n",
      " [ 1  0 -1  0  0  1]\n",
      " [ 1  0  0  0  0  0]\n",
      " [ 1  0  1  0  0  1]\n",
      " [ 1  1 -1  1 -1  1]\n",
      " [ 1  1  0  1  0  0]\n",
      " [ 1  1  1  1  1  1]]\n"
     ]
    }
   ],
   "source": [
    "x, y = np.mgrid[-half_size : half_size + 1, -half_size : half_size + 1].reshape(2, -1)\n",
    "B = np.stack([np.ones(x.size, dtype=int), x, y, x ** 2, x * y, y ** 2], axis=1)\n",
    "print(B)"
   ]
  },
  {
   "attachments": {},
   "cell_type": "markdown",
   "metadata": {},
   "source": [
    "**Applicability as a n x 1 column vector**"
   ]
  },
  {
   "cell_type": "code",
   "execution_count": 8,
   "metadata": {},
   "outputs": [
    {
     "name": "stdout",
     "output_type": "stream",
     "text": [
      "[1 2 1 2 4 2 1 2 1]\n"
     ]
    }
   ],
   "source": [
    "a = applicability.T.reshape(-1)\n",
    "print(a)"
   ]
  },
  {
   "attachments": {},
   "cell_type": "markdown",
   "metadata": {},
   "source": [
    "**Signal neighborhood**"
   ]
  },
  {
   "cell_type": "code",
   "execution_count": 9,
   "metadata": {},
   "outputs": [
    {
     "name": "stdout",
     "output_type": "stream",
     "text": [
      "[1 6 3 1 2 2 2 3 6]\n"
     ]
    }
   ],
   "source": [
    "f = signal[point[1] - half_size : point[1] + half_size + 1,\n",
    "           point[0] - half_size : point[0] + half_size + 1].T.reshape(-1)\n",
    "print(f)"
   ]
  },
  {
   "attachments": {},
   "cell_type": "markdown",
   "metadata": {},
   "source": [
    "**Certainty neighborhood**"
   ]
  },
  {
   "cell_type": "code",
   "execution_count": 10,
   "metadata": {},
   "outputs": [
    {
     "name": "stdout",
     "output_type": "stream",
     "text": [
      "[2 0 1 2 2 2 2 2 1]\n"
     ]
    }
   ],
   "source": [
    "c = certainty[point[1] - half_size : point[1] + half_size + 1,\n",
    "              point[0] - half_size : point[0] + half_size + 1].T.reshape(-1)\n",
    "print(c)"
   ]
  },
  {
   "attachments": {},
   "cell_type": "markdown",
   "metadata": {},
   "source": [
    "**Resulting coefficients**"
   ]
  },
  {
   "cell_type": "code",
   "execution_count": 11,
   "metadata": {},
   "outputs": [
    {
     "name": "stdout",
     "output_type": "stream",
     "text": [
      "[[26  4 -2 10  0 14]\n",
      " [ 4 10  0  4 -2  0]\n",
      " [-2  0 14 -2  0 -2]\n",
      " [10  4 -2 10  0  6]\n",
      " [ 0 -2  0  0  6  0]\n",
      " [14  0 -2  6  0 14]]\n"
     ]
    }
   ],
   "source": [
    "BWaWcB = np.dot(a * c * B.T, B)\n",
    "print(BWaWcB)"
   ]
  },
  {
   "cell_type": "code",
   "execution_count": 12,
   "metadata": {},
   "outputs": [
    {
     "name": "stdout",
     "output_type": "stream",
     "text": [
      "[55 17  7 27  1 27]\n"
     ]
    }
   ],
   "source": [
    "BWaWcf = np.dot(a * c * B.T, f)\n",
    "print(BWaWcf)"
   ]
  },
  {
   "cell_type": "code",
   "execution_count": 13,
   "metadata": {},
   "outputs": [
    {
     "name": "stdout",
     "output_type": "stream",
     "text": [
      "[ 1.8115942   0.7173913   0.86231884  0.84782609  0.4057971  -0.12318841]\n"
     ]
    }
   ],
   "source": [
    "r = np.linalg.inv(BWaWcB).dot(BWaWcf)\n",
    "print(r)"
   ]
  },
  {
   "attachments": {},
   "cell_type": "markdown",
   "metadata": {},
   "source": [
    "**Reconstructed signal projection**"
   ]
  },
  {
   "cell_type": "code",
   "execution_count": 14,
   "metadata": {},
   "outputs": [
    {
     "name": "stdout",
     "output_type": "stream",
     "text": [
      "[[1.36231884 0.82608696 1.98550725]\n",
      " [1.94202899 1.8115942  3.37681159]\n",
      " [2.27536232 2.55072464 4.52173913]]\n"
     ]
    }
   ],
   "source": [
    "Br = B.dot(r).reshape(size, size).T\n",
    "print(Br)"
   ]
  }
 ],
 "metadata": {
  "kernelspec": {
   "display_name": "Python 3",
   "language": "python",
   "name": "python3"
  },
  "language_info": {
   "codemirror_mode": {
    "name": "ipython",
    "version": 3
   },
   "file_extension": ".py",
   "mimetype": "text/x-python",
   "name": "python",
   "nbconvert_exporter": "python",
   "pygments_lexer": "ipython3",
   "version": "3.11.3"
  },
  "orig_nbformat": 4
 },
 "nbformat": 4,
 "nbformat_minor": 2
}
